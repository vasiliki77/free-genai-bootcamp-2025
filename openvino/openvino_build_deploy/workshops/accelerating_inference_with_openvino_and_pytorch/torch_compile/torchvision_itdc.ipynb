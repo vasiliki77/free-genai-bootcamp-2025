{
 "cells": [
  {
   "attachments": {},
   "cell_type": "markdown",
   "id": "0a465fbf",
   "metadata": {},
   "source": [
    "# Torchvision using torch.compile with OpenVINO backend\n"
   ]
  },
  {
   "cell_type": "code",
   "execution_count": null,
   "id": "ec2a1a2a",
   "metadata": {},
   "outputs": [],
   "source": [
    "import sys"
   ]
  },
  {
   "cell_type": "code",
   "execution_count": null,
   "id": "2b4af452",
   "metadata": {},
   "outputs": [],
   "source": [
    "import torch\n",
    "import torchvision.transforms as transforms\n",
    "from torchvision import models\n",
    "from PIL import Image\n",
    "import urllib\n",
    "\n",
    "# Load the Inception v3 model pre-trained on ImageNet\n",
    "model = models.inception_v3(pretrained=True)\n",
    "model.eval()  # Set the model to evaluation mode\n",
    "\n",
    "model = torch.compile(model, backend=\"openvino\")\n",
    "\n",
    "# Define the image preprocessing steps\n",
    "preprocess = transforms.Compose([\n",
    "    transforms.Resize(299),\n",
    "    transforms.CenterCrop(299),\n",
    "    transforms.ToTensor(),\n",
    "    transforms.Normalize(mean=[0.485, 0.456, 0.406], std=[0.229, 0.224, 0.225]),\n",
    "])\n",
    "\n",
    "# Path to the image you want to classify\n",
    "url, img_path = (\"https://github.com/pytorch/hub/raw/master/images/dog.jpg\", \"dog.jpg\")\n",
    "urllib.request.urlretrieve(url, img_path)\n",
    "# Load the image\n",
    "img = Image.open(img_path)\n",
    "\n",
    "# Preprocess the image\n",
    "img_tensor = preprocess(img)\n",
    "\n",
    "# Add a batch dimension (1, 3, 299, 299)\n",
    "img_tensor = img_tensor.unsqueeze(0)\n"
   ]
  },
  {
   "cell_type": "code",
   "execution_count": null,
   "id": "6960adc6",
   "metadata": {},
   "outputs": [],
   "source": [
    "# Make predictions\n",
    "with torch.no_grad():\n",
    "    outputs = model(img_tensor)\n",
    "\n",
    "# Apply softmax to get probabilities\n",
    "probabilities = torch.nn.functional.softmax(outputs[0], dim=0)\n",
    "\n",
    "# Get the top 3 predictions\n",
    "top_probabilities, top_indices = torch.topk(probabilities, 3)\n",
    "\n",
    "# Load the labels for ImageNet classes\n",
    "LABELS_URL = \"https://raw.githubusercontent.com/anishathalye/imagenet-simple-labels/master/imagenet-simple-labels.json\"\n",
    "import urllib\n",
    "import json\n",
    "with urllib.request.urlopen(LABELS_URL) as url:\n",
    "    labels = json.loads(url.read().decode())\n",
    "\n",
    "# Print the top 3 predictions with probabilities\n",
    "print('Predictions:')\n",
    "for i in range(top_indices.size(0)):\n",
    "    label = labels[top_indices[i]]\n",
    "    prob = top_probabilities[i].item()\n",
    "    print(f\"{i+1}: {label} ({prob:.4f})\")\n",
    "\n",
    "img"
   ]
  },
  {
   "cell_type": "code",
   "execution_count": null,
   "id": "8576b857-bcb4-455e-9fde-adf1b78f36bd",
   "metadata": {},
   "outputs": [],
   "source": []
  }
 ],
 "metadata": {
  "kernelspec": {
   "display_name": "Python 3 (ipykernel)",
   "language": "python",
   "name": "python3"
  },
  "language_info": {
   "codemirror_mode": {
    "name": "ipython",
    "version": 3
   },
   "file_extension": ".py",
   "mimetype": "text/x-python",
   "name": "python",
   "nbconvert_exporter": "python",
   "pygments_lexer": "ipython3",
   "version": "3.10.11"
  },
  "openvino_notebooks": {
   "imageUrl": "https://github.com/openvinotoolkit/openvino_notebooks/blob/latest/notebooks/stable-diffusion-v2/stable-diffusion-v2-optimum-demo.png?raw=true",
   "tags": {
    "categories": [
     "Model Demos",
     "AI Trends"
    ],
    "libraries": [],
    "other": [],
    "tasks": [
     "Text-to-Image"
    ]
   }
  },
  "widgets": {
   "application/vnd.jupyter.widget-state+json": {
    "state": {},
    "version_major": 2,
    "version_minor": 0
   }
  }
 },
 "nbformat": 4,
 "nbformat_minor": 5
}
